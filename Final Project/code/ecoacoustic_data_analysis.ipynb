{
 "cells": [
  {
   "cell_type": "markdown",
   "id": "1a08f18f",
   "metadata": {},
   "source": [
    "<h2> Introduction </h2>\n",
    "\n",
    "In this kernel, we will use Gausian Process Regressions and Bayesian Optimisation on ecoacoustic metrics to quantify the spatiotemporal distribution of birds on-farm. The data was obtained by placing 20 audio recorders across the property in a grid formation. The biodiversity project was set up in 14 and 15th Nov 2019.\n",
    "\n",
    "\n",
    "<h2> Our Goals </h2>\n",
    "\n",
    "<ul>\n",
    "<li> Understand the spatial and temporal variability in the data, in particular, study how avian species richness change, examine if there are seasonal cycles.\n",
    "<li> Determine the optimal placement of the 20 audio recorders using the previously described methods. </li>\n",
    "<li> Determine what the optimal placement would be if one or more of the recorders were to stop functioning. </li>\n",
    "</ul>\n",
    "\n",
    "\n",
    "<h2> Outline </h2>\n",
    "\n",
    "I. <b>Our Toolbox</b><br>\n",
    "a) [The PreProcessing Class](#preprocessingclass)<br>\n",
    "b) [The EcouacousticModel Class](#ecoacousticmodelclass)<br>\n",
    "&nbsp;&nbsp;&nbsp;&nbsp;(i) [The SingleFrameGaussianProcessModel Class](#singlegpclass)<br>\n",
    "&nbsp;&nbsp;&nbsp;&nbsp;(ii) [The FullGaussianProcessModel Class](#fullgpclass)<br>\n",
    "&nbsp;&nbsp;&nbsp;&nbsp;(iii) [The TSModel Class](#tsmodelclass)<br>\n",
    "c) [The EcouacousticAnalysis Class](#ecoacousticanalysisclass)<br>\n",
    "&nbsp;&nbsp;&nbsp;&nbsp;(i) [The Visualise Class](#visualiseclass)<br>\n",
    "&nbsp;&nbsp;&nbsp;&nbsp;(ii) [The SVDModel Class](#svdmodelclass)<br>\n",
    "&nbsp;&nbsp;&nbsp;&nbsp;(iii) [The SiteSelection Class](#siteselectionclass)<br>\n",
    "\n",
    "\n",
    "II. <b>Understanding our data</b><br>\n",
    "b) [Initializing and pre-processing our data](#initializing)<br>\n",
    "b) [Gathering sense of our data](#gather)<br>\n",
    "\n",
    "\n",
    "III. <b>Gaussian Process Regression spatiotemporal predictions</b><br>\n",
    "a) [Picture: single timeframe spatial gaussian process regression predictions](#singlegp)<br>\n",
    "b) [Video: spatiotemporal gaussian process regression predictions over the whole timeframe](#fullgp)<br>\n",
    "b) [Optimising the selection of subsequent sites](#optimisingsites)<br>\n",
    "\n",
    "\n",
    "\n",
    "IV. <b>Understanding the spatial and temporal variability in avian richness</b><br>\n",
    "a) [Timeseries analysis](#tsmodel)<br>\n",
    "b) [Spatiotemporal analysis?](#spatiotemporal)<br>"
   ]
  },
  {
   "cell_type": "code",
   "execution_count": 1,
   "id": "17ba3b04",
   "metadata": {},
   "outputs": [],
   "source": [
    "import pandas as pd\n",
    "import numpy as np\n",
    "from matplotlib import pyplot as plt\n",
    "from matplotlib.animation import FuncAnimation\n",
    "import statsmodels.api as sm\n",
    "from itertools import product\n",
    "import datetime as dt\n",
    "from os.path import exists\n",
    "\n",
    "from sklearn.gaussian_process import GaussianProcessRegressor\n",
    "from sklearn.gaussian_process.kernels import RBF\n",
    "\n",
    "import warnings\n",
    "# warnings.filterwarnings(\"ignore\")"
   ]
  },
  {
   "cell_type": "markdown",
   "id": "6c681a20",
   "metadata": {},
   "source": [
    "<h2> I. Our Toolbox </h2>\n",
    "<a id=\"preprocessingclass\"></a>\n",
    "\n",
    "<h3>a) The PreProcessing Class</h3>\n",
    "\n",
    "-Explanation here-"
   ]
  },
  {
   "cell_type": "code",
   "execution_count": 2,
   "id": "595e9dbb",
   "metadata": {},
   "outputs": [],
   "source": [
    "from preprocessing.preprocessing import PreProcessing"
   ]
  },
  {
   "cell_type": "markdown",
   "id": "9875a9de",
   "metadata": {},
   "source": [
    "<a id=\"ecoacousticmodelclass\"></a>\n",
    "\n",
    "<h3>b) The EcoacousticModel class</h3>\n",
    "\n",
    "-Explanation here-"
   ]
  },
  {
   "cell_type": "code",
   "execution_count": 3,
   "id": "3f91fbc7",
   "metadata": {},
   "outputs": [],
   "source": [
    "from models.ecoacoustic_model import EcoacousticModel"
   ]
  },
  {
   "cell_type": "markdown",
   "id": "89c7a7e7",
   "metadata": {},
   "source": [
    "<a id=\"singlegpclass\"></a>\n",
    "\n",
    "<h4>b) (i) The SingleFrameGaussianProcessModel class</h4>\n",
    "\n",
    "-Explanation here-"
   ]
  },
  {
   "cell_type": "code",
   "execution_count": 4,
   "id": "57d3304d",
   "metadata": {},
   "outputs": [],
   "source": [
    "from models.single_frame_gaussian_process_model import SingleFrameGaussianProcessModel"
   ]
  },
  {
   "cell_type": "markdown",
   "id": "cc0d8f01",
   "metadata": {},
   "source": [
    "<a id=\"fullgpclass\"></a>\n",
    "\n",
    "<h4>b) (ii) The FullGaussianProcessModel class</h4>\n",
    "\n",
    "-Explanation here-"
   ]
  },
  {
   "cell_type": "code",
   "execution_count": 5,
   "id": "87ed9507",
   "metadata": {},
   "outputs": [],
   "source": [
    "from models.full_gaussian_process_model import FullGaussianProcessModel"
   ]
  },
  {
   "cell_type": "markdown",
   "id": "672ba427",
   "metadata": {},
   "source": [
    "<a id=\"tsmodelclass\"></a>\n",
    "\n",
    "<h4>b) (iii) The TSModel class</h4>\n",
    "\n",
    "-Explanation here-"
   ]
  },
  {
   "cell_type": "code",
   "execution_count": 6,
   "id": "847196e4",
   "metadata": {},
   "outputs": [],
   "source": [
    "from models.ts_model import TSModel"
   ]
  },
  {
   "cell_type": "markdown",
   "id": "1da39d32",
   "metadata": {},
   "source": [
    "<a id=\"ecoacousticanalysisclass\"></a>\n",
    "\n",
    "<h3>c) The EcoacousticAnalysis class</h3>\n",
    "\n",
    "-Explanation here-\n",
    "\n",
    "Will be used to visualise modes of the full Gaussian process"
   ]
  },
  {
   "cell_type": "code",
   "execution_count": 7,
   "id": "3274c3a6",
   "metadata": {},
   "outputs": [],
   "source": [
    "from analysis.ecoacoustic_analysis import EcoacousticAnalysis"
   ]
  },
  {
   "cell_type": "markdown",
   "id": "eeab6751",
   "metadata": {},
   "source": [
    "<a id=\"visualiseclass\"></a>\n",
    "\n",
    "<h4>c) (i) The Visualise class</h4>\n",
    "\n",
    "-Explanation here-"
   ]
  },
  {
   "cell_type": "code",
   "execution_count": 8,
   "id": "2da8ae5a",
   "metadata": {},
   "outputs": [],
   "source": [
    "from analysis.visualise import Visualise"
   ]
  },
  {
   "cell_type": "markdown",
   "id": "018ff9ad",
   "metadata": {},
   "source": [
    "<a id=\"svdmodelclass\"></a>\n",
    "\n",
    "<h4>c) (ii) The SVDModel class</h4>\n",
    "\n",
    "-Explanation here-\n",
    "\n",
    "Will be used to visualise modes of the full Gaussian process"
   ]
  },
  {
   "cell_type": "code",
   "execution_count": 9,
   "id": "f9059175",
   "metadata": {},
   "outputs": [],
   "source": [
    "from analysis.svd_analysis import SVDAnalysis"
   ]
  },
  {
   "cell_type": "markdown",
   "id": "276275ec",
   "metadata": {},
   "source": [
    "<a id=\"siteselectionclass\"></a>\n",
    "\n",
    "<h4>c) (iii) The SiteSelection class</h4>\n",
    "\n",
    "-Explanation here-"
   ]
  },
  {
   "cell_type": "code",
   "execution_count": 10,
   "id": "5dc03f84",
   "metadata": {},
   "outputs": [],
   "source": [
    "from analysis.site_selection import SiteSelection"
   ]
  },
  {
   "cell_type": "markdown",
   "id": "e578f1d9",
   "metadata": {},
   "source": [
    "<h2> II. Understanding our data </h2>"
   ]
  },
  {
   "cell_type": "markdown",
   "id": "7d9a611d",
   "metadata": {},
   "source": [
    "<a id=\"initializing\"></a>\n",
    "\n",
    "<h3>a) Initializing and pre-processing our data</h3>\n",
    "\n",
    "-Explanation here"
   ]
  },
  {
   "cell_type": "code",
   "execution_count": 11,
   "id": "0e03aa89",
   "metadata": {},
   "outputs": [
    {
     "name": "stderr",
     "output_type": "stream",
     "text": [
      "C:\\Users\\samue\\OneDrive\\Documents\\DARE Coursework\\Final Project\\code\\preprocessing\\preprocessing.py:162: SettingWithCopyWarning: \n",
      "A value is trying to be set on a copy of a slice from a DataFrame.\n",
      "Try using .loc[row_indexer,col_indexer] = value instead\n",
      "\n",
      "See the caveats in the documentation: https://pandas.pydata.org/pandas-docs/stable/user_guide/indexing.html#returning-a-view-versus-a-copy\n",
      "  data[name] = data[name].interpolate()\n",
      "C:\\Users\\samue\\OneDrive\\Documents\\DARE Coursework\\Final Project\\code\\preprocessing\\preprocessing.py:155: SettingWithCopyWarning: \n",
      "A value is trying to be set on a copy of a slice from a DataFrame.\n",
      "Try using .loc[row_indexer,col_indexer] = value instead\n",
      "\n",
      "See the caveats in the documentation: https://pandas.pydata.org/pandas-docs/stable/user_guide/indexing.html#returning-a-view-versus-a-copy\n",
      "  cleaned_data['time'] = self.all_times[ranges[max_range_idx][0]:ranges[max_range_idx][1]]\n"
     ]
    }
   ],
   "source": [
    "preprocessor = PreProcessing('../data/instrument_data.csv','../data/instrument_metadata.csv','ADI')\n",
    "preprocessor.remove_plot()\n",
    "metadata = preprocessor.get_metadata()\n",
    "ecoacoustic_data = preprocessor.get_current_cleaned_data()\n",
    "ecoacoustic_date_data = preprocessor.get_current_cleaned_date_data(ecoacoustic_data)\n",
    "period = preprocessor.get_av_period(ecoacoustic_data)"
   ]
  },
  {
   "cell_type": "markdown",
   "id": "6de1e443",
   "metadata": {},
   "source": [
    "<a id=\"gathering\"></a>\n",
    "\n",
    "<h3>b) Gathering sense of our data</h3>\n",
    "\n",
    "-Explanation here-"
   ]
  },
  {
   "cell_type": "code",
   "execution_count": 12,
   "id": "0583efab",
   "metadata": {},
   "outputs": [],
   "source": [
    "# visualiser = Visualise()\n",
    "# site = 'A02'\n",
    "# single_site_data = preprocessor.get_single_site_data(ecoacoustic_data, site)\n",
    "# visualiser.plot_all_ts(single_site_data,site,'test')\n",
    "# visualiser.point_animation(ecoacoustic_data,metadata,'test')"
   ]
  },
  {
   "cell_type": "markdown",
   "id": "a9f9720e",
   "metadata": {},
   "source": [
    "<h2> III. Gaussian Process Regression spatiotemporal predictions </h2>"
   ]
  },
  {
   "cell_type": "markdown",
   "id": "46dfb5e4",
   "metadata": {},
   "source": [
    "<a id=\"singlegp\"></a>\n",
    "\n",
    "<h3>a) Picture: single timeframe spatial gaussian process regression predictions</h3>\n",
    "\n",
    "-Explanation here-\n"
   ]
  },
  {
   "cell_type": "code",
   "execution_count": 13,
   "id": "9b5f7180",
   "metadata": {},
   "outputs": [],
   "source": [
    "# resolution = 50\n",
    "# for i in range(5):\n",
    "#     single_frame_data = preprocessor.get_single_frame_data(ecoacoustic_data,i)\n",
    "#     X_train = single_frame_data[['long','lat']].values\n",
    "#     y_train = single_frame_data.val.values\n",
    "    \n",
    "#     single_frame_gp_model = SingleFrameGaussianProcessModel(title = ecoacoustic_data.index[i])\n",
    "#     single_frame_gp_model.train(X_train,y_train)\n",
    "    \n",
    "#     x1 = np.linspace(np.min(single_frame_data.long), np.max(single_frame_data.long),resolution) #p\n",
    "#     x2 = np.linspace(np.min(single_frame_data.lat), np.max(single_frame_data.lat),resolution) #q\n",
    "#     x1x2 = np.array(list(product(x1, x2)))\n",
    "#     y_pred,y_lower,y_higher = single_frame_gp_model.predict(x1x2,plot=True)"
   ]
  },
  {
   "cell_type": "markdown",
   "id": "aed66b55",
   "metadata": {},
   "source": [
    "<a id=\"fullgp\"></a>\n",
    "\n",
    "<h3>b) Video: spatiotemporal gaussian process regression predictions over the whole timeframe</h3>\n",
    "\n",
    "-Explanation here-"
   ]
  },
  {
   "cell_type": "code",
   "execution_count": 14,
   "id": "82fd75a3",
   "metadata": {},
   "outputs": [],
   "source": [
    "# # Prepare data for Full GP\n",
    "# data_for_gp = preprocessor.get_data_for_full_gp(ecoacoustic_date_data,av_each_date = True)\n",
    "\n",
    "# # Initialize model\n",
    "# full_gp_model = FullGaussianProcessModel()\n",
    "\n",
    "# # Train model\n",
    "# X = data_for_gp[['long','lat','time']].values\n",
    "# y = data_for_gp.val.values\n",
    "# full_gp_model.train(X,y)\n",
    "\n",
    "# # Predict\n",
    "# resolution = 50\n",
    "# x1 = np.linspace(np.min(data_for_gp.long), np.max(data_for_gp.long),resolution)\n",
    "# x2 = np.linspace(np.min(data_for_gp.lat), np.max(data_for_gp.lat),resolution)\n",
    "# x3 = np.linspace(np.min(data_for_gp.time), np.max(data_for_gp.time),data_for_gp.time.unique().size)\n",
    "# x1x2x3 = np.array(list(product(x1, x2, x3)))\n",
    "# y_pred,y_lower,y_higher = full_gp_model.predict(x1x2x3,plot = True)"
   ]
  },
  {
   "cell_type": "markdown",
   "id": "b18fc147",
   "metadata": {},
   "source": [
    "<a id=\"optimisingsites\"></a>\n",
    "\n",
    "<h3>c) Optimising the selection of the next site</h3>\n",
    "\n",
    "-Explanation here-"
   ]
  },
  {
   "cell_type": "code",
   "execution_count": 15,
   "id": "ee34ec4c",
   "metadata": {},
   "outputs": [
    {
     "name": "stdout",
     "output_type": "stream",
     "text": [
      "Initializing Model\n",
      "Analyzing!\n",
      "This file already exists\n"
     ]
    },
    {
     "data": {
      "image/png": "[encoded data removed]",
      "text/plain": [
       "<Figure size 432x288 with 2 Axes>"
      ]
     },
     "metadata": {
      "needs_background": "light"
     },
     "output_type": "display_data"
    }
   ],
   "source": [
    "# Prepare data for Full GP\n",
    "data_for_gp = preprocessor.get_data_for_full_gp(ecoacoustic_date_data,av_each_date = True)\n",
    "\n",
    "# Initialize model\n",
    "full_gp_model = FullGaussianProcessModel()\n",
    "\n",
    "# Train model\n",
    "X = data_for_gp[['long','lat','time']].values\n",
    "num_sites = np.unique(X[:,0]).size\n",
    "y = data_for_gp.val.values\n",
    "full_gp_model.train(X,y)\n",
    "\n",
    "# Predict\n",
    "resolution = 50\n",
    "x1 = np.linspace(np.min(data_for_gp.long), np.max(data_for_gp.long),resolution)\n",
    "x2 = np.linspace(np.min(data_for_gp.lat), np.max(data_for_gp.lat),resolution)\n",
    "x3 = np.linspace(np.min(data_for_gp.time), np.max(data_for_gp.time),data_for_gp.time.unique().size)\n",
    "x1x2x3 = np.array(list(product(x1, x2, x3)))\n",
    "y_pred,y_lower,y_higher,MSE = full_gp_model.predict(x1x2x3)\n",
    "\n",
    "site_selection = SiteSelection(y_pred,MSE,'UCB',num_sites)"
   ]
  },
  {
   "cell_type": "markdown",
   "id": "a902f83c",
   "metadata": {},
   "source": [
    "<h2> IV. Understanding the spatial and temporal variability in avian richness </h2>\n",
    "<a id=\"tsmodel\"></a>\n",
    "\n",
    "<h3>a) Timeseries analysis </h3>\n",
    "\n",
    "-Explanation here-"
   ]
  },
  {
   "cell_type": "code",
   "execution_count": 16,
   "id": "78d69b56",
   "metadata": {},
   "outputs": [],
   "source": [
    "# site = 'A02'\n",
    "# single_site_data = preprocessor.get_single_site_data(ecoacoustic_data, site)\n",
    "\n",
    "# ts_model = TSModel(single_site_data, period=24)\n",
    "# decomposition = ts_model.seasonal_decompose()\n",
    "\n",
    "# data = ts_model.get_one_period_ahead_pred()"
   ]
  },
  {
   "cell_type": "markdown",
   "id": "5a782122",
   "metadata": {},
   "source": [
    "<a id=\"spatiotemporal\"></a>\n",
    "\n",
    "<h3>a) Spatiotemporal analysis </h3>\n",
    "\n",
    "-Explanation here-"
   ]
  },
  {
   "cell_type": "code",
   "execution_count": 17,
   "id": "2e83658d",
   "metadata": {},
   "outputs": [],
   "source": [
    "# svd_model = SVDAnalysis(y_pred,data_for_gp.long.unique().size,'mean')\n",
    "# svd_model.show_EOF(resolution,5)"
   ]
  },
  {
   "cell_type": "code",
   "execution_count": null,
   "id": "3ac41e9d",
   "metadata": {},
   "outputs": [],
   "source": []
  }
 ],
 "metadata": {
  "kernelspec": {
   "display_name": "Python 3 (ipykernel)",
   "language": "python",
   "name": "python3"
  },
  "language_info": {
   "codemirror_mode": {
    "name": "ipython",
    "version": 3
   },
   "file_extension": ".py",
   "mimetype": "text/x-python",
   "name": "python",
   "nbconvert_exporter": "python",
   "pygments_lexer": "ipython3",
   "version": "3.9.7"
  }
 },
 "nbformat": 4,
 "nbformat_minor": 5
}
