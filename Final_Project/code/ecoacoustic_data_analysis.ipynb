{
 "cells": [
  {
   "cell_type": "markdown",
   "id": "1a08f18f",
   "metadata": {},
   "source": [
    "<h2> Introduction </h2>\n",
    "\n",
    "In this kernel, we will use Gausian Process Regressions and Bayesian Optimisation on ecoacoustic metrics to quantify the spatiotemporal distribution of birds on-farm. The data was obtained by placing 20 audio recorders across the property in a grid formation. The biodiversity project was set up in 14 and 15th Nov 2019.\n",
    "\n",
    "\n",
    "<h2> Our Goals </h2>\n",
    "\n",
    "<ul>\n",
    "<li> Understand the spatial and temporal variability in the data, in particular, study how avian species richness change, examine if there are seasonal cycles.\n",
    "<li> Determine the optimal placement of the 20 audio recorders using the previously described methods. </li>\n",
    "<li> Determine what the optimal placement would be if one or more of the recorders were to stop functioning. </li>\n",
    "</ul>\n",
    "\n",
    "\n",
    "<h2> Outline </h2>\n",
    "\n",
    "I. <b>Our Toolbox</b><br>\n",
    "a) [The PreProcessing Class](#preprocessingclass)<br>\n",
    "b) [The EcouacousticModel Class](#ecoacousticmodelclass)<br>\n",
    "&nbsp;&nbsp;&nbsp;&nbsp;(i) [The SingleFrameGaussianProcessModel Class](#singlegpclass)<br>\n",
    "&nbsp;&nbsp;&nbsp;&nbsp;(ii) [The FullGaussianProcessModel Class](#fullgpclass)<br>\n",
    "&nbsp;&nbsp;&nbsp;&nbsp;(iii) [The TSModel Class](#tsmodelclass)<br>\n",
    "c) [The EcouacousticAnalysis Class](#ecoacousticanalysisclass)<br>\n",
    "&nbsp;&nbsp;&nbsp;&nbsp;(i) [The Visualise Class](#visualiseclass)<br>\n",
    "&nbsp;&nbsp;&nbsp;&nbsp;(ii) [The SVDModel Class](#svdmodelclass)<br>\n",
    "&nbsp;&nbsp;&nbsp;&nbsp;(iii) [The SiteSelection Class](#siteselectionclass)<br>\n",
    "\n",
    "\n",
    "II. <b>Understanding our data</b><br>\n",
    "b) [Initializing and pre-processing our data](#initializing)<br>\n",
    "b) [Gathering sense of our data](#gather)<br>\n",
    "\n",
    "\n",
    "III. <b>Gaussian Process Regression spatiotemporal predictions</b><br>\n",
    "a) [Picture: single timeframe spatial gaussian process regression predictions](#singlegp)<br>\n",
    "b) [Video: spatiotemporal gaussian process regression predictions over the whole timeframe](#fullgp)<br>\n",
    "b) [Optimising the selection of subsequent sites](#optimisingsites)<br>\n",
    "\n",
    "\n",
    "\n",
    "IV. <b>Understanding the spatial and temporal variability in avian richness</b><br>\n",
    "a) [Timeseries analysis](#tsmodel)<br>\n",
    "b) [Spatiotemporal analysis?](#spatiotemporal)<br>"
   ]
  },
  {
   "cell_type": "code",
   "execution_count": 1,
   "id": "17ba3b04",
   "metadata": {},
   "outputs": [],
   "source": [
    "import pandas as pd\n",
    "import numpy as np\n",
    "from matplotlib import pyplot as plt\n",
    "from matplotlib.animation import FuncAnimation\n",
    "import statsmodels.api as sm\n",
    "from itertools import product\n",
    "import datetime as dt\n",
    "from os.path import exists\n",
    "\n",
    "from sklearn.gaussian_process import GaussianProcessRegressor\n",
    "from sklearn.gaussian_process.kernels import RBF\n",
    "\n",
    "import warnings\n",
    "# warnings.filterwarnings(\"ignore\")"
   ]
  },
  {
   "cell_type": "markdown",
   "id": "6c681a20",
   "metadata": {},
   "source": [
    "<h2> I. Our Toolbox </h2>\n",
    "<a id=\"preprocessingclass\"></a>\n",
    "\n",
    "<h3>a) The PreProcessing Class</h3>\n",
    "\n",
    "-Explanation here-"
   ]
  },
  {
   "cell_type": "code",
   "execution_count": 2,
   "id": "595e9dbb",
   "metadata": {},
   "outputs": [],
   "source": [
    "from preprocessing.preprocessing import PreProcessing"
   ]
  },
  {
   "cell_type": "markdown",
   "id": "9875a9de",
   "metadata": {},
   "source": [
    "<a id=\"ecoacousticmodelclass\"></a>\n",
    "\n",
    "<h3>b) The EcoacousticModel class</h3>\n",
    "\n",
    "-Explanation here-"
   ]
  },
  {
   "cell_type": "code",
   "execution_count": 3,
   "id": "3f91fbc7",
   "metadata": {},
   "outputs": [],
   "source": [
    "from models.ecoacoustic_model import EcoacousticModel"
   ]
  },
  {
   "cell_type": "markdown",
   "id": "89c7a7e7",
   "metadata": {},
   "source": [
    "<a id=\"singlegpclass\"></a>\n",
    "\n",
    "<h4>b) (i) The SingleFrameGaussianProcessModel class</h4>\n",
    "\n",
    "-Explanation here-"
   ]
  },
  {
   "cell_type": "code",
   "execution_count": 4,
   "id": "57d3304d",
   "metadata": {},
   "outputs": [],
   "source": [
    "from models.single_frame_gaussian_process_model import SingleFrameGaussianProcessModel"
   ]
  },
  {
   "cell_type": "markdown",
   "id": "cc0d8f01",
   "metadata": {},
   "source": [
    "<a id=\"fullgpclass\"></a>\n",
    "\n",
    "<h4>b) (ii) The FullGaussianProcessModel class</h4>\n",
    "\n",
    "-Explanation here-"
   ]
  },
  {
   "cell_type": "code",
   "execution_count": 5,
   "id": "87ed9507",
   "metadata": {},
   "outputs": [],
   "source": [
    "from models.full_gaussian_process_model import FullGaussianProcessModel"
   ]
  },
  {
   "cell_type": "markdown",
   "id": "672ba427",
   "metadata": {},
   "source": [
    "<a id=\"tsmodelclass\"></a>\n",
    "\n",
    "<h4>b) (iii) The TSModel class</h4>\n",
    "\n",
    "-Explanation here-"
   ]
  },
  {
   "cell_type": "code",
   "execution_count": 6,
   "id": "847196e4",
   "metadata": {},
   "outputs": [],
   "source": [
    "from models.ts_model import TSModel"
   ]
  },
  {
   "cell_type": "markdown",
   "id": "1da39d32",
   "metadata": {},
   "source": [
    "<a id=\"ecoacousticanalysisclass\"></a>\n",
    "\n",
    "<h3>c) The EcoacousticAnalysis class</h3>\n",
    "\n",
    "-Explanation here-\n",
    "\n",
    "Will be used to visualise modes of the full Gaussian process"
   ]
  },
  {
   "cell_type": "code",
   "execution_count": 7,
   "id": "3274c3a6",
   "metadata": {},
   "outputs": [],
   "source": [
    "from analysis.ecoacoustic_analysis import EcoacousticAnalysis"
   ]
  },
  {
   "cell_type": "markdown",
   "id": "eeab6751",
   "metadata": {},
   "source": [
    "<a id=\"visualiseclass\"></a>\n",
    "\n",
    "<h4>c) (i) The Visualise class</h4>\n",
    "\n",
    "-Explanation here-"
   ]
  },
  {
   "cell_type": "code",
   "execution_count": 8,
   "id": "2da8ae5a",
   "metadata": {},
   "outputs": [],
   "source": [
    "from analysis.visualise import Visualise"
   ]
  },
  {
   "cell_type": "markdown",
   "id": "018ff9ad",
   "metadata": {},
   "source": [
    "<a id=\"svdmodelclass\"></a>\n",
    "\n",
    "<h4>c) (ii) The SVDModel class</h4>\n",
    "\n",
    "-Explanation here-\n",
    "\n",
    "Will be used to visualise modes of the full Gaussian process"
   ]
  },
  {
   "cell_type": "code",
   "execution_count": 9,
   "id": "f9059175",
   "metadata": {},
   "outputs": [],
   "source": [
    "from analysis.svd_analysis import SVDAnalysis"
   ]
  },
  {
   "cell_type": "markdown",
   "id": "276275ec",
   "metadata": {},
   "source": [
    "<a id=\"siteselectionclass\"></a>\n",
    "\n",
    "<h4>c) (iii) The SiteSelection class</h4>\n",
    "\n",
    "-Explanation here-"
   ]
  },
  {
   "cell_type": "code",
   "execution_count": 10,
   "id": "5dc03f84",
   "metadata": {},
   "outputs": [],
   "source": [
    "from analysis.site_selection import SiteSelection"
   ]
  },
  {
   "cell_type": "markdown",
   "id": "e578f1d9",
   "metadata": {},
   "source": [
    "<h2> II. Understanding our data </h2>"
   ]
  },
  {
   "cell_type": "markdown",
   "id": "7d9a611d",
   "metadata": {},
   "source": [
    "<a id=\"initializing\"></a>\n",
    "\n",
    "<h3>a) Initializing and pre-processing our data</h3>\n",
    "\n",
    "-Explanation here"
   ]
  },
  {
   "cell_type": "code",
   "execution_count": 11,
   "id": "0e03aa89",
   "metadata": {},
   "outputs": [
    {
     "name": "stderr",
     "output_type": "stream",
     "text": [
      "C:\\Users\\Fabi\\Github\\digifarm-ecoacoustics\\Final_Project\\code\\preprocessing\\preprocessing.py:162: SettingWithCopyWarning: \n",
      "A value is trying to be set on a copy of a slice from a DataFrame.\n",
      "Try using .loc[row_indexer,col_indexer] = value instead\n",
      "\n",
      "See the caveats in the documentation: https://pandas.pydata.org/pandas-docs/stable/user_guide/indexing.html#returning-a-view-versus-a-copy\n",
      "  data[name] = data[name].interpolate()\n",
      "C:\\Users\\Fabi\\Github\\digifarm-ecoacoustics\\Final_Project\\code\\preprocessing\\preprocessing.py:155: SettingWithCopyWarning: \n",
      "A value is trying to be set on a copy of a slice from a DataFrame.\n",
      "Try using .loc[row_indexer,col_indexer] = value instead\n",
      "\n",
      "See the caveats in the documentation: https://pandas.pydata.org/pandas-docs/stable/user_guide/indexing.html#returning-a-view-versus-a-copy\n",
      "  cleaned_data['time'] = self.all_times[ranges[max_range_idx][0]:ranges[max_range_idx][1]]\n"
     ]
    }
   ],
   "source": [
    "preprocessor = PreProcessing('../data/instrument_data.csv','../data/instrument_metadata.csv','ADI')\n",
    "preprocessor.remove_plot()\n",
    "metadata = preprocessor.get_metadata()\n",
    "ecoacoustic_data = preprocessor.get_current_cleaned_data()\n",
    "ecoacoustic_date_data = preprocessor.get_current_cleaned_date_data(ecoacoustic_data)\n",
    "period = preprocessor.get_av_period(ecoacoustic_data)"
   ]
  },
  {
   "cell_type": "markdown",
   "id": "6de1e443",
   "metadata": {},
   "source": [
    "<a id=\"gathering\"></a>\n",
    "\n",
    "<h3>b) Gathering sense of our data</h3>\n",
    "\n",
    "-Explanation here-"
   ]
  },
  {
   "cell_type": "code",
   "execution_count": 12,
   "id": "0583efab",
   "metadata": {},
   "outputs": [],
   "source": [
    "# visualiser = Visualise()\n",
    "# site = 'A02'\n",
    "# single_site_data = preprocessor.get_single_site_data(ecoacoustic_data, site)\n",
    "# visualiser.plot_all_ts(single_site_data,site,'test')\n",
    "# visualiser.point_animation(ecoacoustic_data,metadata,'test')"
   ]
  },
  {
   "cell_type": "markdown",
   "id": "a9f9720e",
   "metadata": {},
   "source": [
    "<h2> III. Gaussian Process Regression spatiotemporal predictions </h2>"
   ]
  },
  {
   "cell_type": "markdown",
   "id": "46dfb5e4",
   "metadata": {},
   "source": [
    "<a id=\"singlegp\"></a>\n",
    "\n",
    "<h3>a) Picture: single timeframe spatial gaussian process regression predictions</h3>\n",
    "\n",
    "-Explanation here-\n"
   ]
  },
  {
   "cell_type": "code",
   "execution_count": 13,
   "id": "9b5f7180",
   "metadata": {},
   "outputs": [],
   "source": [
    "# resolution = 50\n",
    "# for i in range(5):\n",
    "#     single_frame_data = preprocessor.get_single_frame_data(ecoacoustic_data,i)\n",
    "#     X_train = single_frame_data[['long','lat']].values\n",
    "#     y_train = single_frame_data.val.values\n",
    "    \n",
    "#     single_frame_gp_model = SingleFrameGaussianProcessModel(title = ecoacoustic_data.index[i])\n",
    "#     single_frame_gp_model.train(X_train,y_train)\n",
    "    \n",
    "#     x1 = np.linspace(np.min(single_frame_data.long), np.max(single_frame_data.long),resolution) #p\n",
    "#     x2 = np.linspace(np.min(single_frame_data.lat), np.max(single_frame_data.lat),resolution) #q\n",
    "#     x1x2 = np.array(list(product(x1, x2)))\n",
    "#     y_pred,y_lower,y_higher = single_frame_gp_model.predict(x1x2,plot=True)"
   ]
  },
  {
   "cell_type": "markdown",
   "id": "aed66b55",
   "metadata": {},
   "source": [
    "<a id=\"fullgp\"></a>\n",
    "\n",
    "<h3>b) Video: spatiotemporal gaussian process regression predictions over the whole timeframe</h3>\n",
    "\n",
    "-Explanation here-"
   ]
  },
  {
   "cell_type": "code",
   "execution_count": 14,
   "id": "82fd75a3",
   "metadata": {},
   "outputs": [
    {
     "name": "stdout",
     "output_type": "stream",
     "text": [
      "Initializing Model\n"
     ]
    },
    {
     "name": "stderr",
     "output_type": "stream",
     "text": [
      "D:\\Python\\envs\\pytorch_p37\\lib\\site-packages\\sklearn\\gaussian_process\\kernels.py:427: ConvergenceWarning: The optimal value found for dimension 0 of parameter k1__length_scale is close to the specified lower bound 0.01. Decreasing the bound and calling fit again may find a better value.\n",
      "  ConvergenceWarning,\n",
      "D:\\Python\\envs\\pytorch_p37\\lib\\site-packages\\sklearn\\gaussian_process\\kernels.py:427: ConvergenceWarning: The optimal value found for dimension 1 of parameter k1__length_scale is close to the specified lower bound 0.01. Decreasing the bound and calling fit again may find a better value.\n",
      "  ConvergenceWarning,\n",
      "D:\\Python\\envs\\pytorch_p37\\lib\\site-packages\\sklearn\\gaussian_process\\kernels.py:427: ConvergenceWarning: The optimal value found for dimension 2 of parameter k1__length_scale is close to the specified lower bound 0.01. Decreasing the bound and calling fit again may find a better value.\n",
      "  ConvergenceWarning,\n",
      "D:\\Python\\envs\\pytorch_p37\\lib\\site-packages\\sklearn\\gaussian_process\\kernels.py:427: ConvergenceWarning: The optimal value found for dimension 0 of parameter k2__noise_level is close to the specified lower bound 1e-05. Decreasing the bound and calling fit again may find a better value.\n",
      "  ConvergenceWarning,\n"
     ]
    },
    {
     "name": "stdout",
     "output_type": "stream",
     "text": [
      "This file already exists\n",
      "This file already exists\n"
     ]
    },
    {
     "name": "stderr",
     "output_type": "stream",
     "text": [
      "D:\\Python\\envs\\pytorch_p37\\lib\\site-packages\\matplotlib\\animation.py:890: UserWarning: Animation was deleted without rendering anything. This is most likely not intended. To prevent deletion, assign the Animation to a variable, e.g. `anim`, that exists until you have outputted the Animation using `plt.show()` or `anim.save()`.\n",
      "  'Animation was deleted without rendering anything. This is '\n"
     ]
    },
    {
     "data": {
      "image/png": "[encoded data removed]",
      "text/plain": [
       "<Figure size 1440x288 with 4 Axes>"
      ]
     },
     "metadata": {
      "needs_background": "light"
     },
     "output_type": "display_data"
    },
    {
     "data": {
      "image/png": "[encoded data removed]",
      "text/plain": [
       "<Figure size 432x288 with 2 Axes>"
      ]
     },
     "metadata": {
      "needs_background": "light"
     },
     "output_type": "display_data"
    }
   ],
   "source": [
    "# # Prepare data for Full GP\n",
    "# data_for_gp = preprocessor.get_data_for_full_gp(ecoacoustic_date_data,av_each_date = True)\n",
    "\n",
    "# # Initialize model\n",
    "# full_gp_model = FullGaussianProcessModel()\n",
    "\n",
    "# # Train model\n",
    "# X = data_for_gp[['long','lat','time']].values\n",
    "# y = data_for_gp.val.values\n",
    "# full_gp_model.train(X,y)\n",
    "\n",
    "# # Predict\n",
    "# resolution = 50\n",
    "# x1 = np.linspace(np.min(data_for_gp.long), np.max(data_for_gp.long),resolution)\n",
    "# x2 = np.linspace(np.min(data_for_gp.lat), np.max(data_for_gp.lat),resolution)\n",
    "# x3 = np.linspace(np.min(data_for_gp.time), np.max(data_for_gp.time),data_for_gp.time.unique().size)\n",
    "# x1x2x3 = np.array(list(product(x1, x2, x3)))\n",
    "# y_pred,y_lower,y_higher,MSE = full_gp_model.predict(x1x2x3,plot = True)"
   ]
  },
  {
   "cell_type": "markdown",
   "id": "542f03f6",
   "metadata": {},
   "source": [
    "<a id=\"optimisingsites\"></a>\n",
    "\n",
    "<h3>c) Optimising the selection of the next site</h3>\n",
    "\n",
    "-Explanation here-"
   ]
  },
  {
   "cell_type": "code",
   "execution_count": 15,
   "id": "ee34ec4c",
   "metadata": {},
   "outputs": [
    {
     "name": "stdout",
     "output_type": "stream",
     "text": [
      "Initializing Model\n"
     ]
    },
    {
     "name": "stderr",
     "output_type": "stream",
     "text": [
      "D:\\Python\\envs\\pytorch_p37\\lib\\site-packages\\sklearn\\gaussian_process\\kernels.py:427: ConvergenceWarning: The optimal value found for dimension 0 of parameter k1__length_scale is close to the specified lower bound 0.01. Decreasing the bound and calling fit again may find a better value.\n",
      "  ConvergenceWarning,\n",
      "D:\\Python\\envs\\pytorch_p37\\lib\\site-packages\\sklearn\\gaussian_process\\kernels.py:427: ConvergenceWarning: The optimal value found for dimension 1 of parameter k1__length_scale is close to the specified lower bound 0.01. Decreasing the bound and calling fit again may find a better value.\n",
      "  ConvergenceWarning,\n",
      "D:\\Python\\envs\\pytorch_p37\\lib\\site-packages\\sklearn\\gaussian_process\\kernels.py:427: ConvergenceWarning: The optimal value found for dimension 2 of parameter k1__length_scale is close to the specified lower bound 0.01. Decreasing the bound and calling fit again may find a better value.\n",
      "  ConvergenceWarning,\n",
      "D:\\Python\\envs\\pytorch_p37\\lib\\site-packages\\sklearn\\gaussian_process\\kernels.py:427: ConvergenceWarning: The optimal value found for dimension 0 of parameter k2__noise_level is close to the specified lower bound 1e-05. Decreasing the bound and calling fit again may find a better value.\n",
      "  ConvergenceWarning,\n"
     ]
    },
    {
     "name": "stdout",
     "output_type": "stream",
     "text": [
      "Analyzing!\n",
      "This file already exists\n"
     ]
    },
    {
     "data": {
      "image/png": "[encoded data removed]",
      "text/plain": [
       "<Figure size 432x288 with 2 Axes>"
      ]
     },
     "metadata": {
      "needs_background": "light"
     },
     "output_type": "display_data"
    }
   ],
   "source": [
    "missing_instrument = \"A03\"\n",
    "\n",
    "columns = [c for c in ecoacoustic_date_data.columns if c != missing_instrument] \n",
    "\n",
    "# Prepare data for Full GP\n",
    "data_for_gp = preprocessor.get_data_for_full_gp(ecoacoustic_date_data.loc[:,columns],av_each_date = True)\n",
    "\n",
    "# Initialize model\n",
    "full_gp_model = FullGaussianProcessModel()\n",
    "\n",
    "# Train model\n",
    "X = data_for_gp[['long','lat','time']].values\n",
    "num_sites = np.unique(X[:,0]).size\n",
    "y = data_for_gp.val.values\n",
    "full_gp_model.train(X,y)\n",
    "\n",
    "# Predict\n",
    "resolution = 50\n",
    "x1 = np.linspace(np.min(data_for_gp.long), np.max(data_for_gp.long),resolution)\n",
    "x2 = np.linspace(np.min(data_for_gp.lat), np.max(data_for_gp.lat),resolution)\n",
    "x3 = np.linspace(np.min(data_for_gp.time), np.max(data_for_gp.time),data_for_gp.time.unique().size)\n",
    "x1x2x3 = np.array(list(product(x1, x2, x3)))\n",
    "y_pred,y_lower,y_higher,MSE = full_gp_model.predict(x1x2x3)\n",
    "\n",
    "site_selection = SiteSelection(y_pred,MSE,'UCB',num_sites)"
   ]
  },
  {
   "cell_type": "markdown",
   "id": "a902f83c",
   "metadata": {},
   "source": [
    "<h2> IV. Understanding the spatial and temporal variability in avian richness </h2>\n",
    "<a id=\"tsmodel\"></a>\n",
    "\n",
    "<h3>a) Timeseries analysis </h3>\n",
    "\n",
    "-Explanation here-"
   ]
  },
  {
   "cell_type": "code",
   "execution_count": 16,
   "id": "78d69b56",
   "metadata": {},
   "outputs": [],
   "source": [
    "# site = 'A02'\n",
    "# single_site_data = preprocessor.get_single_site_data(ecoacoustic_data, site)\n",
    "\n",
    "# ts_model = TSModel(single_site_data, period=24)\n",
    "# decomposition = ts_model.seasonal_decompose()\n",
    "\n",
    "# data = ts_model.get_one_period_ahead_pred()"
   ]
  },
  {
   "cell_type": "markdown",
   "id": "5a782122",
   "metadata": {},
   "source": [
    "<a id=\"spatiotemporal\"></a>\n",
    "\n",
    "<h3>a) Spatiotemporal analysis </h3>\n",
    "\n",
    "-Explanation here-"
   ]
  },
  {
   "cell_type": "code",
   "execution_count": 17,
   "id": "2e83658d",
   "metadata": {},
   "outputs": [],
   "source": [
    "# svd_model = SVDAnalysis(y_pred,data_for_gp.long.unique().size,'mean')\n",
    "# svd_model.show_EOF(resolution,1)"
   ]
  },
  {
   "cell_type": "code",
   "execution_count": 18,
   "id": "ad0df713",
   "metadata": {},
   "outputs": [
    {
     "ename": "NameError",
     "evalue": "name 'pyproj' is not defined",
     "output_type": "error",
     "traceback": [
      "\u001b[1;31m---------------------------------------------------------------------------\u001b[0m",
      "\u001b[1;31mNameError\u001b[0m                                 Traceback (most recent call last)",
      "\u001b[1;32m~\\AppData\\Local\\Temp/ipykernel_9736/1773131000.py\u001b[0m in \u001b[0;36m<module>\u001b[1;34m\u001b[0m\n\u001b[0;32m      1\u001b[0m \u001b[1;32mfrom\u001b[0m \u001b[0mpyproj\u001b[0m \u001b[1;32mimport\u001b[0m \u001b[0mProj\u001b[0m\u001b[1;33m,\u001b[0m \u001b[0mtransform\u001b[0m\u001b[1;33m\u001b[0m\u001b[1;33m\u001b[0m\u001b[0m\n\u001b[1;32m----> 2\u001b[1;33m \u001b[0mpyproj\u001b[0m\u001b[1;33m.\u001b[0m\u001b[0mdatadir\u001b[0m\u001b[1;33m.\u001b[0m\u001b[0mget_data_dir\u001b[0m\u001b[1;33m(\u001b[0m\u001b[1;33m)\u001b[0m\u001b[1;33m\u001b[0m\u001b[1;33m\u001b[0m\u001b[0m\n\u001b[0m",
      "\u001b[1;31mNameError\u001b[0m: name 'pyproj' is not defined"
     ]
    }
   ],
   "source": [
    "from pyproj import Proj, transform\n",
    "pyproj.datadir.get_data_dir()"
   ]
  },
  {
   "cell_type": "code",
   "execution_count": null,
   "id": "3ac41e9d",
   "metadata": {},
   "outputs": [],
   "source": [
    "import geopandas as gpd\n",
    "import shapely\n",
    "from shapely.geometry import Point\n",
    "from shapely.geometry import shape \n",
    "from shapely.geometry import Polygon\n",
    "from descartes import PolygonPatch\n",
    "import fiona\n",
    "soa_shape_map_path = '../data/GIS/Boundaries/Farm_boundary_new.shp'\n",
    "soa_shape_map = gpd.read_file(soa_shape_map_path)\n",
    "soa_geo_df=soa_shape_map['geometry']\n",
    "soa_labels=soa_shape_map['SOA_LABEL']\n",
    "reset_index(soa_geo_df)\n",
    "reset_index(soa_labels)\n",
    "soa_polys=soa_geo_df.values.T.tolist()"
   ]
  },
  {
   "cell_type": "code",
   "execution_count": null,
   "id": "c0a6d248",
   "metadata": {},
   "outputs": [],
   "source": [
    "shape = fiona.open(soa_shape_map_path)\n",
    "print (shape.schema)"
   ]
  },
  {
   "cell_type": "code",
   "execution_count": null,
   "id": "013e4b6d",
   "metadata": {},
   "outputs": [],
   "source": [
    "first = shape.next()\n",
    "print(first) "
   ]
  },
  {
   "cell_type": "code",
   "execution_count": null,
   "id": "b0402426",
   "metadata": {},
   "outputs": [],
   "source": [
    "list = [(773463.8503080057, 6648907.892523596), (773560.1441859426, 6648959.830259394), (773903.51206672, 6649145.020927557), (773928.0783821512, 6649158.269790645), (775253.083311704, 6649469.135590104), (775250.1101732375, 6649452.486382578), (775341.6023157695, 6649474.041373918), (776289.4482956734, 6649625.459966372), (776634.3704892211, 6649705.447372617), (776882.9971548403, 6649774.211044427), (777125.9981836993, 6649890.881531319), (777802.5152904224, 6650064.776535598), (777995.4564405549, 6650100.816781669), (778341.1923740236, 6649941.901280724), (778341.7821049839, 6649696.2293233145), (778867.5874517607, 6648976.927507105), (779137.671288223, 6648607.402128704), (779541.1477274857, 6648055.306580734), (779200.677557623, 6648104.813732306), (779077.2889126893, 6647463.314580797), (779056.510193048, 6647355.280641372), (778980.7186590508, 6646956.473974404), (778938.2434081491, 6646733.536083408), (778426.1076074, 6646814.817401778), (778362.9468592256, 6646488.978148592), (777680.3949156227, 6646608.689228426), (777594.8745269896, 6646123.801459991), (776870.3411766626, 6646248.856393724), (776824.4549507368, 6645993.402767152), (776192.3380077407, 6646117.264583736), (776222.3946504369, 6646285.374719832), (776242.1436827481, 6646281.879476398), (776441.3601015406, 6647395.637208068), (776001.672051941, 6647463.04839304), (775961.2142168544, 6647218.475084357), (774278.3046429474, 6647514.925207349), (772510.7307811687, 6646038.116789389), (772507.5689484077, 6646036.331440375), (772502.4734516125, 6646035.415787023), (772495.127085886, 6646035.9637438515), (772046.9596203575, 6646117.450093757), (772038.8505256996, 6646116.844936511), (771989.7064411184, 6646127.529618168), (771953.743139117, 6646134.094741796), (771824.3004742144, 6646158.009156127), (771636.786490133, 6646192.624825194), (770991.6862148298, 6646310.275737951), (770988.4261762798, 6646312.739597347), (770988.3299835436, 6646316.241695524), (770991.1834721602, 6646320.758423568), (771238.4487374565, 6646547.9813478105), (770995.6765540075, 6646690.697978866), (770996.825996167, 6646696.284060124), (770997.9421063764, 6646699.406198991), (771017.3733451609, 6646727.542627849), (771046.5109631196, 6646769.716340496), (771081.4760965491, 6646820.324817482), (771091.100535227, 6646833.499806958), (771473.4843758997, 6647381.954341114), (771474.9090205468, 6647382.556392156), (771631.1359639671, 6647611.81055135), (771580.5937450398, 6647648.993771184), (771602.6997267539, 6647783.181886785), (771823.6272519445, 6647956.484316723), (772177.8883178672, 6647398.62041418), (772255.5416535623, 6647460.24407654), (772387.8543043612, 6647565.240632823), (773119.0719147176, 6648145.435008872), (773137.7831312297, 6648160.280283874), (773194.6768180458, 6648205.418688352), (773517.3888891339, 6648461.440381345), (773516.5050882455, 6648463.499791732), (773351.7371983333, 6648847.420773075), (773463.8503080057, 6648907.892523596)]"
   ]
  },
  {
   "cell_type": "code",
   "execution_count": null,
   "id": "005a9362",
   "metadata": {},
   "outputs": [],
   "source": [
    "list"
   ]
  },
  {
   "cell_type": "code",
   "execution_count": null,
   "id": "81c0f88b",
   "metadata": {},
   "outputs": [],
   "source": [
    "from matplotlib import pyplot\n",
    "from descartes import PolygonPatch\n",
    "\n",
    "from fiona import collection\n",
    "\n",
    "# Set up the figure and axes.\n",
    "BLUE = '#6699cc'\n",
    "fig = pyplot.figure(1, figsize=(6, 6), dpi=90)\n",
    "ax = fig.add_subplot(111)\n",
    "\n",
    "# For each feature in the collection, add a patch to the axes.\n",
    "with collection(soa_shape_map_path, \"r\") as input:\n",
    "    for f in input:\n",
    "        ax.add_patch(\n",
    "            PolygonPatch(\n",
    "                f['geometry'], fc=BLUE, ec=BLUE, alpha=0.5 ))\n",
    "\n",
    "# Should be able to get extents from the collection in a future version\n",
    "# of Fiona.\n",
    "#ax.set_xlim(-9.25, 2.75)\n",
    "#ax.set_ylim(49.5, 61.5)\n",
    "\n",
    "fig.savefig('test_uk.png')"
   ]
  },
  {
   "cell_type": "code",
   "execution_count": null,
   "id": "63ea8996",
   "metadata": {},
   "outputs": [],
   "source": [
    "ax.add_patch(\n",
    "            PolygonPatch(\n",
    "                f['geometry'], fc=BLUE, ec=BLUE, alpha=0.5 ))\n",
    "\n",
    "plt.show()"
   ]
  }
 ],
 "metadata": {
  "kernelspec": {
   "display_name": "Python 3 (ipykernel)",
   "language": "python",
   "name": "python3"
  },
  "language_info": {
   "codemirror_mode": {
    "name": "ipython",
    "version": 3
   },
   "file_extension": ".py",
   "mimetype": "text/x-python",
   "name": "python",
   "nbconvert_exporter": "python",
   "pygments_lexer": "ipython3",
   "version": "3.7.11"
  }
 },
 "nbformat": 4,
 "nbformat_minor": 5
}
